{
  "nbformat": 4,
  "nbformat_minor": 0,
  "metadata": {
    "colab": {
      "name": "armstrong number.ipynb",
      "provenance": [],
      "collapsed_sections": []
    },
    "kernelspec": {
      "name": "python3",
      "display_name": "Python 3"
    },
    "language_info": {
      "name": "python"
    }
  },
  "cells": [
    {
      "cell_type": "code",
      "source": [
        "sayı = (input(\"armstrong kontolü için bir sayı giriniz:\"))\n",
        "if sayı.isnumeric():\n",
        "  sayı=int(sayı)\n",
        "  basamak = str(sayı)\n",
        "  toplam=0\n",
        "  for i in basamak:\n",
        "    i = int(i)\n",
        "    toplam += i**len(basamak)\n",
        "  if toplam == sayı:\n",
        "     print(sayı, \"is a armstrong number.\")\n",
        "  else:\n",
        "     print(sayı,\"is not a armstrong number.\")\n",
        "else:\n",
        "  print(\"It is an invalid entry. Don't use non-numeric, float, or negative values!\") "
      ],
      "metadata": {
        "colab": {
          "base_uri": "https://localhost:8080/"
        },
        "id": "BkxvS2pzrr1n",
        "outputId": "64f58a7e-a944-4183-f401-52835d3fb9ef"
      },
      "execution_count": 37,
      "outputs": [
        {
          "output_type": "stream",
          "name": "stdout",
          "text": [
            "armstrong kontolü için bir sayı giriniz:-89\n",
            "It is an invalid entry. Don't use non-numeric, float, or negative values!\n"
          ]
        }
      ]
    },
    {
      "cell_type": "code",
      "source": [
        "num = input(\"enter \")\n",
        "if num.isnumeric():\n",
        "    order = len((num))\n",
        "    num =int(num)\n",
        "    sum=0\n",
        "    original=num\n",
        "    while num >0:\n",
        "      digit = num % 10\n",
        "      sum += digit ** order\n",
        "      num = num // 10\n",
        "      if sum == original:\n",
        "        print(original,\"is an Armstrong number\")\n",
        "        break\n",
        "      else: \n",
        "        print(original, \"is not an Armstrong number\")\n",
        "        break\n",
        "else:\n",
        "      print(\"It is an invalid entry. Don't use non-numeric, float, or negative values!\")    "
      ],
      "metadata": {
        "colab": {
          "base_uri": "https://localhost:8080/"
        },
        "id": "ffSnvFodyUDx",
        "outputId": "efc53c70-810e-4adf-f9a5-cf6c4b85b463"
      },
      "execution_count": 36,
      "outputs": [
        {
          "output_type": "stream",
          "name": "stdout",
          "text": [
            "enter 5\n",
            "5 is an Armstrong number\n"
          ]
        }
      ]
    },
    {
      "cell_type": "code",
      "source": [
        ""
      ],
      "metadata": {
        "id": "P3PzK7ls6zfS"
      },
      "execution_count": null,
      "outputs": []
    }
  ]
}