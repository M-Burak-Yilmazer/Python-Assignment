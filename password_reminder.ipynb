{
  "nbformat": 4,
  "nbformat_minor": 0,
  "metadata": {
    "colab": {
      "name": "password reminder",
      "provenance": []
    },
    "kernelspec": {
      "name": "python3",
      "display_name": "Python 3"
    },
    "language_info": {
      "name": "python"
    }
  },
  "cells": [
    {
      "cell_type": "code",
      "execution_count": 6,
      "metadata": {
        "colab": {
          "base_uri": "https://localhost:8080/"
        },
        "id": "zKXKGWHG-N51",
        "outputId": "4f47dfe6-d5fb-4544-aed3-e88d7162e89c"
      },
      "outputs": [
        {
          "output_type": "stream",
          "name": "stdout",
          "text": [
            "whats your first name: ?joseph\n",
            "HEllo, Joseph! the password is : W@12\n"
          ]
        }
      ],
      "source": [
        "given_answer = input(\"whats your first name: ?\").title()\n",
        "\n",
        "if given_answer == \"Joseph\":\n",
        "\n",
        "    print(\"HEllo, Joseph! the password is : W@12\")\n",
        "\n",
        "else : \n",
        "\n",
        "    print(\"Hello, Amina! See you later.\")"
      ]
    },
    {
      "cell_type": "code",
      "source": [
        ""
      ],
      "metadata": {
        "id": "KZ2hEGu6-_x6"
      },
      "execution_count": null,
      "outputs": []
    },
    {
      "cell_type": "code",
      "source": [
        ""
      ],
      "metadata": {
        "id": "kUZbD2ty-tfO"
      },
      "execution_count": null,
      "outputs": []
    }
  ]
}