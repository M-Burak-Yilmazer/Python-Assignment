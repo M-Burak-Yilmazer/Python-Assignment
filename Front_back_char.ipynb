{
  "nbformat": 4,
  "nbformat_minor": 0,
  "metadata": {
    "colab": {
      "name": "Front-back char.ipynb",
      "provenance": [],
      "collapsed_sections": [],
      "authorship_tag": "ABX9TyNuNFiUTktdqmA0c08+zITL",
      "include_colab_link": true
    },
    "kernelspec": {
      "name": "python3",
      "display_name": "Python 3"
    },
    "language_info": {
      "name": "python"
    }
  },
  "cells": [
    {
      "cell_type": "markdown",
      "metadata": {
        "id": "view-in-github",
        "colab_type": "text"
      },
      "source": [
        "<a href=\"https://colab.research.google.com/github/Mathias-Burger/Python-Assignment/blob/master/Front_back_char.ipynb\" target=\"_parent\"><img src=\"https://colab.research.google.com/assets/colab-badge.svg\" alt=\"Open In Colab\"/></a>"
      ]
    },
    {
      "cell_type": "code",
      "execution_count": null,
      "metadata": {
        "id": "C_Qyv-wejS1K"
      },
      "outputs": [],
      "source": [
        "def front_back(word):\n",
        "    if len(word)>1:\n",
        "        word1 = word[-1]+word[1:-1]+word[0]\n",
        "        return word1\n",
        "    else:\n",
        "        return word\n",
        "print(front_back(\"cahra\"))"
      ]
    }
  ]
}