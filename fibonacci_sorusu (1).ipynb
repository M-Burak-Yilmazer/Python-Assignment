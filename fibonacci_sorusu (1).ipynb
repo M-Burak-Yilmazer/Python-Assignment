{
  "nbformat": 4,
  "nbformat_minor": 0,
  "metadata": {
    "colab": {
      "name": "fibonacci sorusu.ipynb",
      "provenance": [],
      "collapsed_sections": []
    },
    "kernelspec": {
      "name": "python3",
      "display_name": "Python 3"
    },
    "language_info": {
      "name": "python"
    }
  },
  "cells": [
    {
      "cell_type": "code",
      "execution_count": 27,
      "metadata": {
        "colab": {
          "base_uri": "https://localhost:8080/"
        },
        "id": "vgEWUgf1S7r7",
        "outputId": "2c7e51df-8f2c-4c01-c95e-8508696b7da7"
      },
      "outputs": [
        {
          "output_type": "stream",
          "name": "stdout",
          "text": [
            "enter the last fibonacci number want to see : 56\n",
            "Fibonaci list : [1, 1, 2, 3, 5, 8, 13, 21, 34, 55]\n"
          ]
        }
      ],
      "source": [
        "sınır = int(input(\"enter the last fibonacci number want to see : \"))\n",
        "x= 0\n",
        "y = 1\n",
        "list1=[]\n",
        "\n",
        "for i in range(1,100): \n",
        "    list1.append(y)\n",
        "    x,y = y,x+y\n",
        "     \n",
        "    if y > sınır:\n",
        "      break\n",
        "print(f\"Fibonaci list : {list1}\")"
      ]
    },
    {
      "cell_type": "code",
      "source": [
        "#muazın çözümü\n",
        "son_sayı = int(input(\"Write the last Fibonacci number you want to see in the list: \"))\n",
        "Fibo_numbers = []\n",
        "a = 0\n",
        "b = 1\n",
        "for i in range(1,100):\n",
        "    Fibo_numbers.append(b)\n",
        "    a , b = b, a + b\n",
        "    if b > son_sayı:\n",
        "        break\n",
        "print(f\"Fibonacci numbers you want to list = {Fibo_numbers}\")"
      ],
      "metadata": {
        "colab": {
          "base_uri": "https://localhost:8080/"
        },
        "id": "oiIjpspJbNaU",
        "outputId": "27307297-169c-4b95-a459-05204aaa8f3e"
      },
      "execution_count": 21,
      "outputs": [
        {
          "output_type": "stream",
          "name": "stdout",
          "text": [
            "Write the last Fibonacci number you want to see in the list: 55\n",
            "Fibonacci numbers you want to list = [1, 1, 2, 3, 5, 8, 13, 21, 34, 55]\n"
          ]
        }
      ]
    },
    {
      "cell_type": "code",
      "source": [
        ""
      ],
      "metadata": {
        "id": "z4mndrmETtos"
      },
      "execution_count": null,
      "outputs": []
    }
  ]
}