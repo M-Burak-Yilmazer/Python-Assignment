{
  "nbformat": 4,
  "nbformat_minor": 0,
  "metadata": {
    "colab": {
      "name": "asal sayı prime number bulma.ipynb",
      "provenance": [],
      "collapsed_sections": []
    },
    "kernelspec": {
      "name": "python3",
      "display_name": "Python 3"
    },
    "language_info": {
      "name": "python"
    }
  },
  "cells": [
    {
      "cell_type": "code",
      "source": [
        "x = int(input(\"enter a number to check is a prime number: \"))\n",
        "if x>1:\n",
        "  for i in range (2,x):\n",
        "    \n",
        "    if x % i == 0:\n",
        "      print(x,\"is not a prime number.\")\n",
        "      break\n",
        "    elif x % i !=0 :\n",
        "      print(x,\"is a prime number.\")\n",
        "      break\n",
        "else:\n",
        "  print(x,\"is not a prime number.\")\n"
      ],
      "metadata": {
        "id": "z4mndrmETtos",
        "colab": {
          "base_uri": "https://localhost:8080/"
        },
        "outputId": "e4255407-248e-4349-a4aa-0875ad12232d"
      },
      "execution_count": 38,
      "outputs": [
        {
          "output_type": "stream",
          "name": "stdout",
          "text": [
            "enter a number to check is a prime number: 10\n",
            "10 is not a prime number.\n"
          ]
        }
      ]
    },
    {
      "cell_type": "code",
      "source": [
        "sonuc= []\n",
        "for i in range(1,100):\n",
        "  for b in range (2,i):\n",
        "    if (i%b == 0):\n",
        "      break\n",
        "  else:\n",
        "   sonuc.append(i)\n",
        "print(sonuc)"
      ],
      "metadata": {
        "colab": {
          "base_uri": "https://localhost:8080/"
        },
        "id": "8SGhhtDdmi-Y",
        "outputId": "24e13e99-cd76-421d-fed7-d475bdded40d"
      },
      "execution_count": 36,
      "outputs": [
        {
          "output_type": "stream",
          "name": "stdout",
          "text": [
            "[1, 2, 3, 5, 7, 11, 13, 17, 19, 23, 29, 31, 37, 41, 43, 47, 53, 59, 61, 67, 71, 73, 79, 83, 89, 97]\n"
          ]
        }
      ]
    },
    {
      "cell_type": "code",
      "source": [
        ""
      ],
      "metadata": {
        "id": "CSh6y7j4m3a6"
      },
      "execution_count": null,
      "outputs": []
    }
  ]
}