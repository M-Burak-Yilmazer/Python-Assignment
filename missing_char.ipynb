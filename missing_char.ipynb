{
  "nbformat": 4,
  "nbformat_minor": 0,
  "metadata": {
    "colab": {
      "name": "missing_char.ipynb",
      "provenance": [],
      "collapsed_sections": [],
      "authorship_tag": "ABX9TyO2RaFQGNSk6v6khBSYw7CR",
      "include_colab_link": true
    },
    "kernelspec": {
      "name": "python3",
      "display_name": "Python 3"
    },
    "language_info": {
      "name": "python"
    }
  },
  "cells": [
    {
      "cell_type": "markdown",
      "metadata": {
        "id": "view-in-github",
        "colab_type": "text"
      },
      "source": [
        "<a href=\"https://colab.research.google.com/github/Mathias-Burger/Python-Assignment/blob/master/missing_char.ipynb\" target=\"_parent\"><img src=\"https://colab.research.google.com/assets/colab-badge.svg\" alt=\"Open In Colab\"/></a>"
      ]
    },
    {
      "cell_type": "code",
      "execution_count": 1,
      "metadata": {
        "colab": {
          "base_uri": "https://localhost:8080/"
        },
        "id": "3psqTmwXitRi",
        "outputId": "479a9715-67ad-4bdc-d395-8fa5f8b5b0ac"
      },
      "outputs": [
        {
          "output_type": "stream",
          "name": "stdout",
          "text": [
            "itchen\n"
          ]
        }
      ],
      "source": [
        "def missing_char(word,n):\n",
        "    word2 = word[:n] + word[(n+1):]\n",
        "    return word2\n",
        "\n",
        "missing=(missing_char(\"kitchen\",0))\n",
        "print(missing)\n",
        "\n",
        "\n"
      ]
    },
    {
      "cell_type": "code",
      "source": [
        ""
      ],
      "metadata": {
        "id": "WKBouYJyi4Sj"
      },
      "execution_count": null,
      "outputs": []
    }
  ]
}