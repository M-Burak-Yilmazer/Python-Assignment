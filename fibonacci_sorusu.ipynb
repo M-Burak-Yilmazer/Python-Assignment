{
  "nbformat": 4,
  "nbformat_minor": 0,
  "metadata": {
    "colab": {
      "name": "fibonacci sorusu.ipynb",
      "provenance": [],
      "collapsed_sections": []
    },
    "kernelspec": {
      "name": "python3",
      "display_name": "Python 3"
    },
    "language_info": {
      "name": "python"
    }
  },
  "cells": [
    {
      "cell_type": "code",
      "execution_count": 15,
      "metadata": {
        "colab": {
          "base_uri": "https://localhost:8080/"
        },
        "id": "vgEWUgf1S7r7",
        "outputId": "1844a1fb-c7c5-447e-c351-8b71fc4b2b2f"
      },
      "outputs": [
        {
          "output_type": "stream",
          "name": "stdout",
          "text": [
            "kaç sıra fibonacci rakamı istiyorsanız sınır için rakam giriniz.156\n",
            "[0, 1, 1, 2, 3, 5, 8, 13, 21, 34, 55]\n"
          ]
        }
      ],
      "source": [
        "sinir = int(input(\"kaç sıra fibonacci rakamı istiyorsanız sınır için rakam giriniz. : \"))\n",
        "sayı1= 0\n",
        "sayı2 = 1\n",
        "sayı3 = 0\n",
        "list1=[sayı1,sayı2]\n",
        "\n",
        "for i in range(sinir-2): #listede başta sayı1 ve sayı2 olduğu için 2 çıkarırız.\n",
        "    sayı3=sayı1+sayı2\n",
        "    list1.append(sayı3)\n",
        "    sayı1=sayı2\n",
        "    sayı2=sayı3\n",
        "    if sayı3 == 55:\n",
        "      break\n",
        "print(list1)"
      ]
    },
    {
      "cell_type": "code",
      "source": [
        ""
      ],
      "metadata": {
        "id": "z4mndrmETtos"
      },
      "execution_count": null,
      "outputs": []
    }
  ]
}